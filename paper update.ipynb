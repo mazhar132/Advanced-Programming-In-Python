{
 "cells": [
  {
   "cell_type": "code",
   "execution_count": 67,
   "id": "208c30d3",
   "metadata": {},
   "outputs": [],
   "source": [
    "import pandas as pd\n",
    "import numpy as np\n",
    "import matplotlib.pyplot as plt\n",
    "#df=pd.read_csv('Book1.csv')\n",
    "#df"
   ]
  },
  {
   "cell_type": "code",
   "execution_count": null,
   "id": "49974ec1",
   "metadata": {},
   "outputs": [],
   "source": []
  },
  {
   "cell_type": "code",
   "execution_count": 68,
   "id": "831c46de",
   "metadata": {},
   "outputs": [
    {
     "name": "stdout",
     "output_type": "stream",
     "text": [
      "   roll no              name  ut1  ut2  ut3  ut4\n",
      "0        1      prerna singh   24   24   20   22\n",
      "1        2      manish arora   18   17   19   22\n",
      "2        3       tanish goel   20   22   18   24\n",
      "3        4      falguni jain   22   20   24   20\n",
      "4        5  kanika bhatangar   15   20   18   22\n",
      "5        6    ramandeep kaur   20   15   22   24\n"
     ]
    }
   ],
   "source": [
    "data = {\n",
    "    \"roll no\":[1,2,3,4,5,6],\n",
    "  \"name\": [\"prerna singh\",\"manish arora\",\"tanish goel\",\"falguni jain\",\"kanika bhatangar\",\"ramandeep kaur\"],\n",
    "\n",
    "\n",
    "\n",
    "\n",
    "\n",
    " \n",
    "  \"ut1\": [24,18,20,22,15,20], \"ut2\": [24,17,22,20,20,15],\"ut3\": [20,19,18,24,18,22],\"ut4\": [22,22,24,20,22,24],\n",
    "  \n",
    "  \n",
    "    \n",
    "    \n",
    "  \n",
    "}\n",
    "df = pd.DataFrame(data)\n",
    "\n",
    "print(df) "
   ]
  },
  {
   "cell_type": "code",
   "execution_count": 69,
   "id": "a898c651",
   "metadata": {},
   "outputs": [],
   "source": [
    "#df.drop(['ut3', 'ut4'], axis=1)"
   ]
  },
  {
   "cell_type": "code",
   "execution_count": 70,
   "id": "3ecaa36c",
   "metadata": {},
   "outputs": [
    {
     "data": {
      "text/html": [
       "<div>\n",
       "<style scoped>\n",
       "    .dataframe tbody tr th:only-of-type {\n",
       "        vertical-align: middle;\n",
       "    }\n",
       "\n",
       "    .dataframe tbody tr th {\n",
       "        vertical-align: top;\n",
       "    }\n",
       "\n",
       "    .dataframe thead th {\n",
       "        text-align: right;\n",
       "    }\n",
       "</style>\n",
       "<table border=\"1\" class=\"dataframe\">\n",
       "  <thead>\n",
       "    <tr style=\"text-align: right;\">\n",
       "      <th></th>\n",
       "      <th>roll no</th>\n",
       "      <th>name</th>\n",
       "      <th>ut1</th>\n",
       "      <th>ut2</th>\n",
       "      <th>ut3</th>\n",
       "      <th>ut4</th>\n",
       "    </tr>\n",
       "  </thead>\n",
       "  <tbody>\n",
       "  </tbody>\n",
       "</table>\n",
       "</div>"
      ],
      "text/plain": [
       "Empty DataFrame\n",
       "Columns: [roll no, name, ut1, ut2, ut3, ut4]\n",
       "Index: []"
      ]
     },
     "execution_count": 70,
     "metadata": {},
     "output_type": "execute_result"
    }
   ],
   "source": [
    "df.head(0)"
   ]
  },
  {
   "cell_type": "markdown",
   "id": "93f6f71a",
   "metadata": {},
   "source": []
  },
  {
   "cell_type": "code",
   "execution_count": 93,
   "id": "0729755d",
   "metadata": {},
   "outputs": [
    {
     "data": {
      "text/plain": [
       "6"
      ]
     },
     "execution_count": 93,
     "metadata": {},
     "output_type": "execute_result"
    }
   ],
   "source": [
    "rollno=df['roll no'].values\n",
    "rollno[5]\n"
   ]
  },
  {
   "cell_type": "code",
   "execution_count": 80,
   "id": "b9d5f837",
   "metadata": {},
   "outputs": [
    {
     "name": "stdout",
     "output_type": "stream",
     "text": [
      "   roll no            name  ut1  ut2  ut3  ut4\n",
      "5        6  ramandeep kaur   20   15   22   24\n",
      "   roll no         name  ut1  ut2  ut3  ut4\n",
      "2        3  tanish goel   20   22   18   24\n"
     ]
    }
   ],
   "source": []
  },
  {
   "cell_type": "code",
   "execution_count": 73,
   "id": "6bc930fa",
   "metadata": {},
   "outputs": [],
   "source": [
    "x=5\n",
    "y=7\n",
    "z=x+y+1\n"
   ]
  },
  {
   "cell_type": "code",
   "execution_count": 74,
   "id": "3fa9147a",
   "metadata": {},
   "outputs": [
    {
     "data": {
      "text/plain": [
       "13"
      ]
     },
     "execution_count": 74,
     "metadata": {},
     "output_type": "execute_result"
    }
   ],
   "source": [
    "z"
   ]
  },
  {
   "cell_type": "code",
   "execution_count": 66,
   "id": "82f9e470",
   "metadata": {},
   "outputs": [],
   "source": [
    "x=\"test\"\n",
    "y=False\n"
   ]
  },
  {
   "cell_type": "code",
   "execution_count": 75,
   "id": "5121452f",
   "metadata": {},
   "outputs": [
    {
     "data": {
      "text/plain": [
       "7"
      ]
     },
     "execution_count": 75,
     "metadata": {},
     "output_type": "execute_result"
    }
   ],
   "source": []
  },
  {
   "cell_type": "code",
   "execution_count": 89,
   "id": "b5350827",
   "metadata": {},
   "outputs": [
    {
     "ename": "AttributeError",
     "evalue": "'dict' object has no attribute 'pd'",
     "output_type": "error",
     "traceback": [
      "\u001b[1;31m---------------------------------------------------------------------------\u001b[0m",
      "\u001b[1;31mAttributeError\u001b[0m                            Traceback (most recent call last)",
      "\u001b[1;32m<ipython-input-89-809fc6cf84be>\u001b[0m in \u001b[0;36m<module>\u001b[1;34m\u001b[0m\n\u001b[1;32m----> 1\u001b[1;33m \u001b[0mdata\u001b[0m\u001b[1;33m.\u001b[0m\u001b[0mpd\u001b[0m\u001b[1;33m.\u001b[0m\u001b[0mtype\u001b[0m\u001b[1;33m(\u001b[0m\u001b[1;33m)\u001b[0m\u001b[1;33m\u001b[0m\u001b[1;33m\u001b[0m\u001b[0m\n\u001b[0m",
      "\u001b[1;31mAttributeError\u001b[0m: 'dict' object has no attribute 'pd'"
     ]
    }
   ],
   "source": []
  },
  {
   "cell_type": "code",
   "execution_count": 83,
   "id": "e47c30ef",
   "metadata": {},
   "outputs": [
    {
     "name": "stdout",
     "output_type": "stream",
     "text": [
      "roll no=\n"
     ]
    },
    {
     "ename": "IndexError",
     "evalue": "tuple index out of range",
     "output_type": "error",
     "traceback": [
      "\u001b[1;31m---------------------------------------------------------------------------\u001b[0m",
      "\u001b[1;31mIndexError\u001b[0m                                Traceback (most recent call last)",
      "\u001b[1;32m<ipython-input-83-ae60767bb091>\u001b[0m in \u001b[0;36m<module>\u001b[1;34m\u001b[0m\n\u001b[0;32m      1\u001b[0m \u001b[0mrollno\u001b[0m\u001b[1;33m=\u001b[0m\u001b[0mprint\u001b[0m\u001b[1;33m(\u001b[0m\u001b[1;34m\"roll no=\"\u001b[0m\u001b[1;33m)\u001b[0m\u001b[1;33m,\u001b[0m\u001b[1;33m\u001b[0m\u001b[1;33m\u001b[0m\u001b[0m\n\u001b[0;32m      2\u001b[0m \u001b[0mdf\u001b[0m\u001b[1;33m[\u001b[0m\u001b[1;34m'roll no'\u001b[0m\u001b[1;33m]\u001b[0m\u001b[1;33m.\u001b[0m\u001b[0mvalues\u001b[0m\u001b[1;33m\u001b[0m\u001b[1;33m\u001b[0m\u001b[0m\n\u001b[1;32m----> 3\u001b[1;33m \u001b[0mrollno\u001b[0m\u001b[1;33m[\u001b[0m\u001b[1;36m1\u001b[0m\u001b[1;33m]\u001b[0m\u001b[1;33m\u001b[0m\u001b[1;33m\u001b[0m\u001b[0m\n\u001b[0m",
      "\u001b[1;31mIndexError\u001b[0m: tuple index out of range"
     ]
    }
   ],
   "source": []
  },
  {
   "cell_type": "code",
   "execution_count": 90,
   "id": "52769e73",
   "metadata": {},
   "outputs": [],
   "source": [
    "num = int(input(\"Enter a number: \"))    \n",
    "factorial = 1    \n",
    "\n",
    "for i in range(1,num + 1): \n",
    "        \n",
    "        \n",
    "        factorial = factorial*i    \n",
    "print(\"The factorial of\",num,\"is\",factorial)   \n",
    " "
   ]
  },
  {
   "cell_type": "code",
   "execution_count": 92,
   "id": "364a8e89",
   "metadata": {},
   "outputs": [
    {
     "name": "stdout",
     "output_type": "stream",
     "text": [
      "No\n"
     ]
    }
   ],
   "source": [
    "def Palindrome(s):\n",
    "    return x == x[::-1]\n",
    " \n",
    " \n",
    "# Driver code\n",
    "x = \"msa\"\n",
    "ans = Palindrome(x)\n",
    " \n",
    "if ans:\n",
    "    print(\"Yes\")\n",
    "else:\n",
    "    print(\"No\")"
   ]
  },
  {
   "cell_type": "code",
   "execution_count": null,
   "id": "7a73faf8",
   "metadata": {},
   "outputs": [],
   "source": [
    "ch = input(\"Enter a character: \")\n",
    "\n",
    "if(ch=='A' or ch=='a' or ch=='E' or ch =='e' or ch=='I'\n",
    " or ch=='i' or ch=='O' or ch=='o' or ch=='U' or ch=='u'):\n",
    "    print(ch, \"is a Vowel\")\n",
    "else:\n",
    "    print(ch, \"is a Consonant\")"
   ]
  },
  {
   "cell_type": "code",
   "execution_count": null,
   "id": "e16c398d",
   "metadata": {},
   "outputs": [],
   "source": [
    "a = [    \n",
    "        [2, 11, 7,12],  \n",
    "        [5,2, 9, 15],    \n",
    "        [8, 3, 10,42],  \n",
    "       \n",
    "    ];  \n",
    "   \n",
    "#Calculates number of rows and columns present in given matrix  \n",
    "rows = len(a);  \n",
    "cols = len(a[0]);  \n",
    "   \n",
    "#Calculates sum of each row of given matrix  \n",
    "for i in range(0, rows):  \n",
    "    sumofRow = 0;  \n",
    "    #for j in range(0, cols):  \n",
    "    sumofRow = sumpofRow + a[i][i];  \n",
    "    print(\"Sum of \" + str(i+1) +\" row: \" + str(sumoofRow));  \n",
    "   "
   ]
  }
 ],
 "metadata": {
  "kernelspec": {
   "display_name": "Python 3",
   "language": "python",
   "name": "python3"
  },
  "language_info": {
   "codemirror_mode": {
    "name": "ipython",
    "version": 3
   },
   "file_extension": ".py",
   "mimetype": "text/x-python",
   "name": "python",
   "nbconvert_exporter": "python",
   "pygments_lexer": "ipython3",
   "version": "3.8.8"
  }
 },
 "nbformat": 4,
 "nbformat_minor": 5
}
